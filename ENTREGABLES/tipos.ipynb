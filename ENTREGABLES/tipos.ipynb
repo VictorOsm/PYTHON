{
 "cells": [
  {
   "cell_type": "markdown",
   "metadata": {},
   "source": [
    "# EJERCICIO 1\n",
    "Realizar un programa que inicialice una lista con 10 valores aleatorios (del 1 al 10) y posteriormente muestre en pantalla cada elemento de la lista junto con su cuadrado y su cubo."
   ]
  },
  {
   "cell_type": "code",
   "execution_count": 4,
   "metadata": {},
   "outputs": [
    {
     "name": "stdout",
     "output_type": "stream",
     "text": [
      "[3, 1, 8, 3, 7, 1, 3, 9, 3, 8]\n",
      "3 elevado al cuadrado es 6 y elevado al cubo es 9\n",
      "1 elevado al cuadrado es 2 y elevado al cubo es 3\n",
      "8 elevado al cuadrado es 16 y elevado al cubo es 24\n",
      "3 elevado al cuadrado es 6 y elevado al cubo es 9\n",
      "7 elevado al cuadrado es 14 y elevado al cubo es 21\n",
      "1 elevado al cuadrado es 2 y elevado al cubo es 3\n",
      "3 elevado al cuadrado es 6 y elevado al cubo es 9\n",
      "9 elevado al cuadrado es 18 y elevado al cubo es 27\n",
      "3 elevado al cuadrado es 6 y elevado al cubo es 9\n",
      "8 elevado al cuadrado es 16 y elevado al cubo es 24\n"
     ]
    }
   ],
   "source": [
    "from random import randint\n",
    "lista = [randint(1,10) for i in range (0,10)]\n",
    "print(lista)\n",
    "for i in lista:\n",
    "    print(f\"{i} elevado al cuadrado es {i*2} y elevado al cubo es {i*3}\")"
   ]
  },
  {
   "cell_type": "markdown",
   "metadata": {},
   "source": [
    "# EJERCICIO 2\n",
    " Crea una lista e inicializarla con 5 cadenas de caracteres leídas por teclado. Copia los elementos de la lista en otra lista pero en orden inverso, y muestra sus elementos por la pantalla."
   ]
  },
  {
   "cell_type": "code",
   "execution_count": 3,
   "metadata": {},
   "outputs": [
    {
     "name": "stdout",
     "output_type": "stream",
     "text": [
      "['aloh', 'yos', 'rotciv', 'ramso', 'is']\n"
     ]
    }
   ],
   "source": [
    "lista_palabras = [input(f\"Ingresa una palabra {i+1}\") for i in range(5)]\n",
    "lista_palabra_invertida = [palabra[::-1] for palabra in lista_palabras]\n",
    "print(lista_palabra_invertida)"
   ]
  },
  {
   "cell_type": "markdown",
   "metadata": {},
   "source": [
    "# EJERCICIO 3\n",
    "Se quiere realizar un programa que lea por teclado las 5 notas obtenidas por un alumno (comprendidas entre 0 y 10). A continuación debe mostrar todas las notas, la nota media, la nota más alta que ha sacado y la menor."
   ]
  },
  {
   "cell_type": "code",
   "execution_count": 25,
   "metadata": {},
   "outputs": [
    {
     "name": "stdout",
     "output_type": "stream",
     "text": [
      "[6, 10, 9, 5, 2]\n",
      "2\n",
      "10\n",
      "4.6\n"
     ]
    }
   ],
   "source": [
    "calif_alumno = [int(input(f\"ingresa nota {i+1}\")) for i in range(5)]\n",
    "print (calif_alumno)\n",
    "print (min(calif_alumno))\n",
    "print (max(calif_alumno))\n",
    "(sum(lista))\n",
    "print (sum(lista)/len(lista))"
   ]
  },
  {
   "cell_type": "markdown",
   "metadata": {},
   "source": [
    "# EJERCICIO 4\n",
    "Codifica un programa en Python que nos permita guardar los nombres de los alumnos de una clase y las notas que han obtenido. Cada alumno puede tener distinta cantidad de notas. Guarda la información en un diccionario cuya claves serán los nombres de los alumnos y los valores serán listados con las notas de cada alumno.\n",
    "\n",
    "El programa pedirá el número de alumnos que vamos a introducir, pedirá su nombre e irá pidiendo sus notas hasta que introduzcamos un número negativo. Al final el programa nos mostrará la lista de alumnos y la nota media obtenida por cada uno de ellos. Nota: si se introduce el nombre de un alumno que ya existe el programa nos dará un error."
   ]
  },
  {
   "cell_type": "code",
   "execution_count": null,
   "metadata": {},
   "outputs": [],
   "source": [
    "alumnos = "
   ]
  }
 ],
 "metadata": {
  "kernelspec": {
   "display_name": "Python 3",
   "language": "python",
   "name": "python3"
  },
  "language_info": {
   "codemirror_mode": {
    "name": "ipython",
    "version": 3
   },
   "file_extension": ".py",
   "mimetype": "text/x-python",
   "name": "python",
   "nbconvert_exporter": "python",
   "pygments_lexer": "ipython3",
   "version": "3.11.2"
  },
  "orig_nbformat": 4
 },
 "nbformat": 4,
 "nbformat_minor": 2
}
